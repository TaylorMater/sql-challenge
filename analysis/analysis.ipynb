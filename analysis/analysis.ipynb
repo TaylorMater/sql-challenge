{
 "cells": [
  {
   "cell_type": "markdown",
   "metadata": {},
   "source": [
    "### Database Schema and Setup\n",
    "\n",
    "I originally chose to use `text` over `varchar` in my schema, after seeing [this](https://stackoverflow.com/questions/4848964/difference-between-text-and-varchar-character-varying), but meeting with my tutor he asked that I use `char(n)` and `varchar(n)` instead, because by specifying the `n` you can give other DB managers an idea about the size of the string you would expect for that attribute, even if under the hood there's minimal performance differences (due to everything being stored in variable length arrays). Further, he recommended the convention of sticking to tighter constraints whenever possible. \n",
    "\n",
    "I originally wrote the `table_creation.sql` file manually after investigating the databases and playing in QuickDataBaseDiagrams. But my tutor also suggested that I instead use the default PostgreSQL code generated from QDBD's export feature (code for the QDBD is found in the `/notes/notes.txt`). The main benefit to that export is that table creation doesn't need to occur in a specific order, although importing the data DID need to follow a particular order (which gives me flashbacks to .NET Framework dependency management). The order I chose:\n",
    "\n",
    "1. departments\n",
    "2. titles\n",
    "3. employees\n",
    "4. dept_emp\n",
    "5. dept_manager\n",
    "6. salaries\n",
    "\n"
   ]
  },
  {
   "cell_type": "markdown",
   "metadata": {},
   "source": [
    "### ERD Notes\n",
    "\n",
    "The ERD can be found via `/ERD/Module_9_ERD.png`. \n",
    "\n",
    "I had a few concerns with some of the relationships and setup. I didn't want to use `char(n)` as I mentioned earlier, but it was recommended by my tutor. I also did not want to use `emp_no` in the `dept_manager` table as a primary key, because it felt reasonable that someone could be a manager of multiple departments, but per tutor assistance they specified to use it as a primary key (I wanted the same key setup that I used in `dept_emp`). Further, some of the entity relationships were not immediately clear. The `salaries` to `employees` relationship seemed like it had an obvious bijective mapping, but I didn't technically verify that the size of an inner join on `emp_no` between the two would be the same as the size of the individual tables until after creating my ERD. And it took some investigation to realize that `dept_emp` had repeated values in both columns.\n",
    "\n",
    "In general, I'm not sure about how strictly people will investigate the diagram. I didn't see an explicit way to encode the different relationships using PostgreSQL. Ultimately a foreign key is just a constraint to verify that a certain value of an attribute exists in another column of a different table. It doesn't specify the type of relationship. So the relationship markings seem to only provide information to someone just wanting a quick ovevrview of what to expect in the database.\n",
    "\n"
   ]
  },
  {
   "cell_type": "markdown",
   "metadata": {},
   "source": [
    "### Query Analysis\n",
    "\n",
    "I didn't find anything particularly noteworthy to mention here. I relied more on joins than subqueries or views. I didn't create or modify any tables in anyway, all queries were purely select statements. "
   ]
  }
 ],
 "metadata": {
  "language_info": {
   "name": "python"
  }
 },
 "nbformat": 4,
 "nbformat_minor": 2
}
