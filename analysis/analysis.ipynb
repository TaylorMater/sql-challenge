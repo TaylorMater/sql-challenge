{
 "cells": [
  {
   "cell_type": "markdown",
   "metadata": {},
   "source": [
    "### Analysis of Database Schema and Setup\n",
    "\n",
    "I originally chose to use `text` over `varchar` in my schema, after seeing [this](https://stackoverflow.com/questions/4848964/difference-between-text-and-varchar-character-varying), but meeting with my tutor he asked that I use `char(n)` and `varchar(n)` instead, because by specifying the `n` you can give other DB managers an idea about the size of the string you would expect for that attribute, even if under the hood there's minimal performance differences (due to everything being stored in variable length arrays). Further, he recommended the convention of sticking to tighter constraints whenever possible. \n",
    "\n",
    "I originally wrote the `table_creation.sql` file manually after investigating the databases and playing in QuickDataBaseDiagrams. But my tutor also suggested that I instead use the default PostgreSQL code generated from QDBD's export feature (code for the QDBD is found in the `/notes/notes.txt`). The main benefit to that export is that table creation doesn't need to occur in a specific order, although importing the data DID need to follow a particular order (which gives me flashbacks to .NET Framework dependency management). The order I chose:\n",
    "\n",
    "1. departments\n",
    "2. titles\n",
    "3. employees\n",
    "4. dept_emp\n",
    "5. dept_manager\n",
    "6. salaries\n",
    "\n"
   ]
  },
  {
   "cell_type": "markdown",
   "metadata": {},
   "source": [
    "### ERD Notes\n",
    "\n",
    "The ERD can be found via `/ERD/Module_(_ERD.png`. \n",
    "\n",
    "I had a few concerns with some of the relationships and setup. For example, my tutor\n",
    "\n"
   ]
  }
 ],
 "metadata": {
  "language_info": {
   "name": "python"
  }
 },
 "nbformat": 4,
 "nbformat_minor": 2
}
