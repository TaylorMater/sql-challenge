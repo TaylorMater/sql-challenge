{
 "cells": [
  {
   "cell_type": "markdown",
   "metadata": {},
   "source": []
  },
  {
   "cell_type": "markdown",
   "metadata": {},
   "source": [
    "### Analysis of Database Schema\n",
    "\n",
    "The departments table had dept_no and dept_name attributes. dept_no was unique and not null (although not entirely numeric, so I assigned it VARCHAR(8), although I doubt they would ever have that many departments), and intuitively I assigned it a primary key.\n",
    "\n",
    "The department employee table seems to match all employee ids with their corresponding department number that they work in. Everything is non null, and the employee id is unique. We can have many employees corresponding to one department. The department number is a foreign key, referenced in another table. The employee number is a primary key. \n",
    "\n",
    "The depertment manager table seems to list the managers for various departments. I wasn't sure if someone could be the manager of multiple departments, so I didn't want to assign the employee no as a primary key - perhaps duplicates are allowed. And the department numbers are repeated (multiple managers to cover shifts for a department), so they clearly are not a primary key. They are both foreign keys though. \n",
    "\n",
    "The employees table uses dates for the first time. They are in the MDY SQL format from the postgres documentation. If I have to make changes to this later, I will need to use the MDY datestyle (see [here](https://www.postgresql.org/docs/current/datatype-datetime.html) on how to do that)."
   ]
  },
  {
   "cell_type": "markdown",
   "metadata": {},
   "source": [
    "## Questions and Notes\n",
    "\n",
    "\n",
    "The code I entered on https://app.quickdatabasediagrams.com/#/ to generate my diagram is in the next cell. I was struggling with the relationship syntax and I wasn't really sure if I needed to specify more/less. \n",
    "\n",
    "\n",
    "Some other notes - https://stackoverflow.com/questions/4848964/difference-between-text-and-varchar-character-varying\n",
    "\n",
    "seemed to imply that varchar(n) is not really giving you the performance benefit you might think it is? Assigning it the text type seems fine? But the assignment rubric is grading us for proper character assignment for our columns? What if I chose to use text instead of varchar? \n",
    "\n",
    "\n",
    "Another note - I know the SERIAL is syntax sugar for a way to create an INT with a sequence. But I don't own this DB, and we are only asked to query, not to insert or modify the data in any way. As such I see no point in using SERIAL (I'm referring to emp_no for this assignment), but I suspect the grader will take points off because its the kind of scenario where you might expect SERIAL to be used. I want to mention this here so that I can reference it in the future if I get points off. "
   ]
  },
  {
   "cell_type": "markdown",
   "metadata": {},
   "source": [
    "```\n",
    "\n",
    "\n",
    "departments\n",
    "-\n",
    "dept_no CHAR(4) PK\n",
    "dept_name VARCHAR(30)\n",
    "\n",
    "\n",
    "titles\n",
    "-\n",
    "title_id CHAR(5) PK\n",
    "title VARCHAR(30)\n",
    "\n",
    "\n",
    "employees\n",
    "-\n",
    "emp_no INT PK\n",
    "emp_title CHAR(5) FK >- titles.title_id\n",
    "birth_date DATE\n",
    "first_name VARCHAR(30)\n",
    "last_name VARCHAR(30)\n",
    "sex   CHAR(1)\n",
    "hire_date DATE\n",
    "\n",
    "\n",
    "dept_emp\n",
    "-\n",
    "emp_no INT PK FK >- employees.emp_no\n",
    "dept_no  CHAR(4) PK FK >- departments.dept_no\n",
    "\n",
    "\n",
    "dept_manager\n",
    "-\n",
    "dept_no CHAR(4) FK >- departments.dept_no\n",
    "emp_no INT PK FK >- employees.emp_no\n",
    "\n",
    "\n",
    "salaries\n",
    "-\n",
    "emp_no INT PK FK - employees.emp_no\n",
    "salary INT \n",
    "\n",
    "```"
   ]
  }
 ],
 "metadata": {
  "language_info": {
   "name": "python"
  }
 },
 "nbformat": 4,
 "nbformat_minor": 2
}
